{
 "cells": [
  {
   "cell_type": "code",
   "execution_count": null,
   "id": "c78c0873",
   "metadata": {},
   "outputs": [],
   "source": [
    "import os\n",
    "from selenium import webdriver\n",
    "from selenium.webdriver.common.by import By\n",
    "from selenium.webdriver.support.ui import WebDriverWait\n",
    "from selenium.webdriver.support import expected_conditions as EC\n",
    "import requests\n",
    "\n",
    "import time\n",
    "\n",
    "# from webdriver_manager.chrome import ChromeDriverManager\n",
    "from selenium.webdriver.chrome.service import Service\n",
    "from webdriver_manager.chrome import ChromeDriverManager\n",
    "\n",
    "\n",
    "chrome_options = webdriver.ChromeOptions()\n",
    "chrome_options.binary_location = os.environ.get(\"GOOGLE_CHROME_BIN\")\n",
    "# chrome_options.add_argument(\"--headless\")\n",
    "chrome_options.add_argument(\"--disable-dev-shm-usage\")\n",
    "chrome_options.add_argument(\"--no-sandbox\")\n",
    "\n",
    "count = 0\n",
    "error = 0\n",
    "\n",
    "\n",
    "def send_to_telegram(message):  # Telegram bot\n",
    "\n",
    "    apiToken = '6194281790:AAFyDI-ggKlaNSFbASmNbHG6TmjJ7lkmW_8'\n",
    "    chatID = '-1001756342015'\n",
    "\n",
    "    apiURL = f'https://api.telegram.org/bot{apiToken}/sendMessage'\n",
    "\n",
    "    try:\n",
    "        response = requests.post(apiURL, json={'chat_id': chatID, 'text': message})\n",
    "        print(response.text)\n",
    "    except Exception as e:\n",
    "        print(e)\n",
    "\n",
    "    print(message)\n",
    "\n",
    "\n",
    "def send_to_telegram_log(message):  # Telegram bot\n",
    "\n",
    "    apiToken = '6194281790:AAFyDI-ggKlaNSFbASmNbHG6TmjJ7lkmW_8'\n",
    "    chatID = '-1001756342015'\n",
    "\n",
    "    apiURL = f'https://api.telegram.org/bot{apiToken}/sendMessage'\n",
    "\n",
    "    try:\n",
    "        response = requests.post(apiURL, json={'chat_id': chatID, 'text': message})\n",
    "        print(response.text)\n",
    "    except Exception as e:\n",
    "        print(e)\n",
    "\n",
    "\n",
    "def image():\n",
    "    directory = os.getcwd()\n",
    "    # files = {'photo': open(f'{directory}\\WARNING!!!!!1.png', 'rb')}\n",
    "    # requests.post('https://api.telegram.org/bot5704612050:AAEIS4ZcP19CDgZ5-g3uNFxw64Dvsmn0HRA/'\n",
    "    #               'sendPhoto?chat_id=-819110848', files=files)\n",
    "    \n",
    "\n",
    "\n",
    "    # try:\n",
    "    #     WebDriverWait(driver, 5).until(\n",
    "    #         EC.presence_of_element_located((By.XPATH, '//p[@class=\"lead fr-text mt-4 mb-3 text-center\"]')))\n",
    "    #     send_to_telegram_log(count)\n",
    "    #     # count = count + 1\n",
    "    #     send_to_telegram(\n",
    "    #         \"French Visa Available! https://consulat.gouv.fr/en/ambassade-de-france-en-irlande/appointment?name=Visas\"\n",
    "    #         )\n",
    "    #     # driver.save_screenshot(f'WARNING!!!!!1.png')\n",
    "    #     # image()\n",
    "    # except:\n",
    "    #     # send_to_telegram(\n",
    "    #     #     \"French Visa! https://consulat.gouv.fr/en/ambassade-de-france-en-irlande/appointment?name=Visas\"\n",
    "    #     #     )\n",
    "    #     print(\"no visa\")\n",
    "    #     # driver.save_screenshot(f'WARNING!!!!!1.png')\n",
    "    #     # image()\n",
    "\n",
    "    # driver.quit()\n",
    "\n",
    "\n",
    "def clickWithName(s):\n",
    "        try:\n",
    "            xpath = \"//button[contains(text(),'\" + s + \"')]\"\n",
    "            driver.implicitly_wait(5)\n",
    "            driver.find_element(By.XPATH, xpath).click()\n",
    "        except:\n",
    "            print(s + \" is not found!\")\n",
    "            error = 1\n",
    "            return\n",
    "\n",
    "def S1AccessToService():\n",
    "    clickWithName(\"Access to services\")\n",
    "\n",
    "\n",
    "def S2SkipTest():\n",
    "    clickWithName(\"Yes\")\n",
    "\n",
    "def S2ToConfirm():\n",
    "    clickWithName(\"To confirm\")\n",
    "\n",
    "def S3BookAppointment():\n",
    "    try:\n",
    "        driver.implicitly_wait(5)\n",
    "        checkbox = driver.find_element(By.XPATH, \"//input[@id='readInformations']\")\n",
    "        driver.implicitly_wait(5)\n",
    "        driver.execute_script(\"arguments[0].click();\", checkbox)\n",
    "        driver.implicitly_wait(5)\n",
    "        is_selected = checkbox.is_selected()\n",
    "        driver.implicitly_wait(5)\n",
    "        while not is_selected:\n",
    "            driver.execute_script(\"arguments[0].click();\", checkbox)\n",
    "            is_selected = checkbox.is_selected()\n",
    "        driver.implicitly_wait(5)\n",
    "        is_present3 = driver.find_element(By.CSS_SELECTOR,\n",
    "                                          \"button[class='fr-btn fr-btn--primary fr-icon-check-line fr-btn--icon-left \"\n",
    "                                          \"accept']\")\n",
    "    except:\n",
    "        print(\"check box error\")\n",
    "\n",
    "    clickWithName(\"Book an appointment\")\n",
    "\n",
    "\n",
    "def S4SearchSlot():\n",
    "    try:\n",
    "        xpath = \"//button[contains(text(),'\" + s + \"')]\"\n",
    "        driver.implicitly_wait(5)\n",
    "        driver.find_element(By.XPATH, xpath)\n",
    "        send_to_telegram(\"French Visa! https://consulat.gouv.fr/en/ambassade-de-france-en-irlande/appointment?name=Visas\")\n",
    "    except:\n",
    "        if error == 0:\n",
    "            print(\"no slot\")\n",
    "        return\n",
    "\n",
    "\n",
    "\n",
    "# driver = webdriver.Edge(executable_path=\"/Users/qiong/Downloads/edgedriver_mac64_m1/msedgedriver\")\n",
    "driver = webdriver.Chrome(service=Service(ChromeDriverManager().install()), options=chrome_options)\n",
    "# driver = webdriver.Safari();\n",
    "\n",
    "# driver = webdriver.Edge()\n",
    "\n",
    "driver.get(\"https://consulat.gouv.fr/en/ambassade-de-france-en-irlande/appointment?name=Visas\")\n",
    "# driver.implicitly_wait(100)\n",
    "\n",
    "\n",
    "\n",
    "# fill in code\n",
    "inp = input('STATEMENT:')\n",
    "driver.find_element(By.XPATH, \"//*[@id='is-human']/div/div[2]/input\").send_keys(inp)\n",
    "\n",
    "time.sleep(1)\n",
    "\n"
   ]
  },
  {
   "cell_type": "code",
   "execution_count": null,
   "id": "2a25395d",
   "metadata": {},
   "outputs": [],
   "source": [
    "while True:\n",
    "    S1AccessToService()\n",
    "    if count == 0:\n",
    "        S2ToConfirm()\n",
    "        count = 1\n",
    "    else:\n",
    "        time.sleep(1)\n",
    "        S2SkipTest()\n",
    "        time.sleep(1)\n",
    "\n",
    "    S3BookAppointment()\n",
    "    S4SearchSlot()\n",
    "    driver.refresh()\n",
    "    error=0\n",
    "    time.sleep(20)"
   ]
  },
  {
   "cell_type": "code",
   "execution_count": 3,
   "id": "af2bb5df",
   "metadata": {},
   "outputs": [],
   "source": [
    "img = driver.find_element(By.XPATH, \"//img[@id='captcha-image']\")"
   ]
  },
  {
   "cell_type": "code",
   "execution_count": 5,
   "id": "c6c4cb6f",
   "metadata": {},
   "outputs": [],
   "source": [
    "src = img.get_attribute('src')"
   ]
  },
  {
   "cell_type": "code",
   "execution_count": 9,
   "id": "65450e9f",
   "metadata": {},
   "outputs": [
    {
     "ename": "AttributeError",
     "evalue": "module 'urllib' has no attribute 'urlretrieve'",
     "output_type": "error",
     "traceback": [
      "\u001b[0;31m---------------------------------------------------------------------------\u001b[0m",
      "\u001b[0;31mAttributeError\u001b[0m                            Traceback (most recent call last)",
      "Cell \u001b[0;32mIn[9], line 1\u001b[0m\n\u001b[0;32m----> 1\u001b[0m \u001b[43murllib\u001b[49m\u001b[38;5;241;43m.\u001b[39;49m\u001b[43murlretrieve\u001b[49m(src, \u001b[38;5;124m\"\u001b[39m\u001b[38;5;124mcaptcha.png\u001b[39m\u001b[38;5;124m\"\u001b[39m)\n",
      "\u001b[0;31mAttributeError\u001b[0m: module 'urllib' has no attribute 'urlretrieve'"
     ]
    }
   ],
   "source": [
    "urllib.urlretrieve(src, \"captcha.png\")"
   ]
  },
  {
   "cell_type": "code",
   "execution_count": 7,
   "id": "fd21dcae",
   "metadata": {},
   "outputs": [],
   "source": [
    "import urllib"
   ]
  },
  {
   "cell_type": "code",
   "execution_count": 10,
   "id": "1502b0c1",
   "metadata": {},
   "outputs": [
    {
     "ename": "AttributeError",
     "evalue": "module 'urllib' has no attribute 'urlretrieve'",
     "output_type": "error",
     "traceback": [
      "\u001b[0;31m---------------------------------------------------------------------------\u001b[0m",
      "\u001b[0;31mAttributeError\u001b[0m                            Traceback (most recent call last)",
      "Cell \u001b[0;32mIn[10], line 1\u001b[0m\n\u001b[0;32m----> 1\u001b[0m \u001b[43murllib\u001b[49m\u001b[38;5;241;43m.\u001b[39;49m\u001b[43murlretrieve\u001b[49m(src, \u001b[38;5;124m\"\u001b[39m\u001b[38;5;124mcaptcha.png\u001b[39m\u001b[38;5;124m\"\u001b[39m)\n",
      "\u001b[0;31mAttributeError\u001b[0m: module 'urllib' has no attribute 'urlretrieve'"
     ]
    }
   ],
   "source": [
    "urllib.urlretrieve(src, \"captcha.png\")"
   ]
  },
  {
   "cell_type": "code",
   "execution_count": 11,
   "id": "ed33efcf",
   "metadata": {},
   "outputs": [
    {
     "data": {
      "text/plain": [
       "'data:image/svg+xml;base64,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'"
      ]
     },
     "execution_count": 11,
     "metadata": {},
     "output_type": "execute_result"
    }
   ],
   "source": [
    "src"
   ]
  },
  {
   "cell_type": "code",
   "execution_count": 18,
   "id": "90efdc6f",
   "metadata": {},
   "outputs": [],
   "source": [
    "def saveImage(name, path):\n",
    "    directory = os.getcwd()\n",
    "    file_path = directory +\"/\"+ name + '.jpg'\n",
    "    urllib.request.urlretrieve(path, file_path)\n",
    "    print(\"success\")\n",
    "    print(file_path)\n",
    "    # files = {'photo': open(f'{directory}\\WARNING!!!!!1.png', 'rb')}\n",
    "    # requests.post('https://api.telegram.org/bot5704612050:AAEIS4ZcP19CDgZ5-g3uNFxw64Dvsmn0HRA/'\n",
    "    #               'sendPhoto?chat_id=-819110848', files=files)\n"
   ]
  },
  {
   "cell_type": "code",
   "execution_count": 19,
   "id": "68807e9e",
   "metadata": {},
   "outputs": [
    {
     "name": "stdout",
     "output_type": "stream",
     "text": [
      "success\n",
      "/Users/qiong/PycharmProjects/VISA-main/1.jpg\n"
     ]
    }
   ],
   "source": [
    "saveImage(\"1\", src)"
   ]
  },
  {
   "cell_type": "code",
   "execution_count": 24,
   "id": "de2f0be5",
   "metadata": {},
   "outputs": [
    {
     "ename": "JSONDecodeError",
     "evalue": "Expecting value: line 1 column 1 (char 0)",
     "output_type": "error",
     "traceback": [
      "\u001b[0;31m---------------------------------------------------------------------------\u001b[0m",
      "\u001b[0;31mJSONDecodeError\u001b[0m                           Traceback (most recent call last)",
      "Cell \u001b[0;32mIn[24], line 2\u001b[0m\n\u001b[1;32m      1\u001b[0m response \u001b[38;5;241m=\u001b[39m urllib\u001b[38;5;241m.\u001b[39mrequest\u001b[38;5;241m.\u001b[39murlopen(src)\n\u001b[0;32m----> 2\u001b[0m images \u001b[38;5;241m=\u001b[39m \u001b[43mjson\u001b[49m\u001b[38;5;241;43m.\u001b[39;49m\u001b[43mloads\u001b[49m\u001b[43m(\u001b[49m\u001b[43mresponse\u001b[49m\u001b[38;5;241;43m.\u001b[39;49m\u001b[43mread\u001b[49m\u001b[43m(\u001b[49m\u001b[43m)\u001b[49m\u001b[43m)\u001b[49m[\u001b[38;5;124m'\u001b[39m\u001b[38;5;124mmsg\u001b[39m\u001b[38;5;124m'\u001b[39m]\n",
      "File \u001b[0;32m/Applications/Xcode.app/Contents/Developer/Library/Frameworks/Python3.framework/Versions/3.9/lib/python3.9/json/__init__.py:346\u001b[0m, in \u001b[0;36mloads\u001b[0;34m(s, cls, object_hook, parse_float, parse_int, parse_constant, object_pairs_hook, **kw)\u001b[0m\n\u001b[1;32m    341\u001b[0m     s \u001b[38;5;241m=\u001b[39m s\u001b[38;5;241m.\u001b[39mdecode(detect_encoding(s), \u001b[38;5;124m'\u001b[39m\u001b[38;5;124msurrogatepass\u001b[39m\u001b[38;5;124m'\u001b[39m)\n\u001b[1;32m    343\u001b[0m \u001b[38;5;28;01mif\u001b[39;00m (\u001b[38;5;28mcls\u001b[39m \u001b[38;5;129;01mis\u001b[39;00m \u001b[38;5;28;01mNone\u001b[39;00m \u001b[38;5;129;01mand\u001b[39;00m object_hook \u001b[38;5;129;01mis\u001b[39;00m \u001b[38;5;28;01mNone\u001b[39;00m \u001b[38;5;129;01mand\u001b[39;00m\n\u001b[1;32m    344\u001b[0m         parse_int \u001b[38;5;129;01mis\u001b[39;00m \u001b[38;5;28;01mNone\u001b[39;00m \u001b[38;5;129;01mand\u001b[39;00m parse_float \u001b[38;5;129;01mis\u001b[39;00m \u001b[38;5;28;01mNone\u001b[39;00m \u001b[38;5;129;01mand\u001b[39;00m\n\u001b[1;32m    345\u001b[0m         parse_constant \u001b[38;5;129;01mis\u001b[39;00m \u001b[38;5;28;01mNone\u001b[39;00m \u001b[38;5;129;01mand\u001b[39;00m object_pairs_hook \u001b[38;5;129;01mis\u001b[39;00m \u001b[38;5;28;01mNone\u001b[39;00m \u001b[38;5;129;01mand\u001b[39;00m \u001b[38;5;129;01mnot\u001b[39;00m kw):\n\u001b[0;32m--> 346\u001b[0m     \u001b[38;5;28;01mreturn\u001b[39;00m \u001b[43m_default_decoder\u001b[49m\u001b[38;5;241;43m.\u001b[39;49m\u001b[43mdecode\u001b[49m\u001b[43m(\u001b[49m\u001b[43ms\u001b[49m\u001b[43m)\u001b[49m\n\u001b[1;32m    347\u001b[0m \u001b[38;5;28;01mif\u001b[39;00m \u001b[38;5;28mcls\u001b[39m \u001b[38;5;129;01mis\u001b[39;00m \u001b[38;5;28;01mNone\u001b[39;00m:\n\u001b[1;32m    348\u001b[0m     \u001b[38;5;28mcls\u001b[39m \u001b[38;5;241m=\u001b[39m JSONDecoder\n",
      "File \u001b[0;32m/Applications/Xcode.app/Contents/Developer/Library/Frameworks/Python3.framework/Versions/3.9/lib/python3.9/json/decoder.py:337\u001b[0m, in \u001b[0;36mJSONDecoder.decode\u001b[0;34m(self, s, _w)\u001b[0m\n\u001b[1;32m    332\u001b[0m \u001b[38;5;28;01mdef\u001b[39;00m \u001b[38;5;21mdecode\u001b[39m(\u001b[38;5;28mself\u001b[39m, s, _w\u001b[38;5;241m=\u001b[39mWHITESPACE\u001b[38;5;241m.\u001b[39mmatch):\n\u001b[1;32m    333\u001b[0m \u001b[38;5;250m    \u001b[39m\u001b[38;5;124;03m\"\"\"Return the Python representation of ``s`` (a ``str`` instance\u001b[39;00m\n\u001b[1;32m    334\u001b[0m \u001b[38;5;124;03m    containing a JSON document).\u001b[39;00m\n\u001b[1;32m    335\u001b[0m \n\u001b[1;32m    336\u001b[0m \u001b[38;5;124;03m    \"\"\"\u001b[39;00m\n\u001b[0;32m--> 337\u001b[0m     obj, end \u001b[38;5;241m=\u001b[39m \u001b[38;5;28;43mself\u001b[39;49m\u001b[38;5;241;43m.\u001b[39;49m\u001b[43mraw_decode\u001b[49m\u001b[43m(\u001b[49m\u001b[43ms\u001b[49m\u001b[43m,\u001b[49m\u001b[43m \u001b[49m\u001b[43midx\u001b[49m\u001b[38;5;241;43m=\u001b[39;49m\u001b[43m_w\u001b[49m\u001b[43m(\u001b[49m\u001b[43ms\u001b[49m\u001b[43m,\u001b[49m\u001b[43m \u001b[49m\u001b[38;5;241;43m0\u001b[39;49m\u001b[43m)\u001b[49m\u001b[38;5;241;43m.\u001b[39;49m\u001b[43mend\u001b[49m\u001b[43m(\u001b[49m\u001b[43m)\u001b[49m\u001b[43m)\u001b[49m\n\u001b[1;32m    338\u001b[0m     end \u001b[38;5;241m=\u001b[39m _w(s, end)\u001b[38;5;241m.\u001b[39mend()\n\u001b[1;32m    339\u001b[0m     \u001b[38;5;28;01mif\u001b[39;00m end \u001b[38;5;241m!=\u001b[39m \u001b[38;5;28mlen\u001b[39m(s):\n",
      "File \u001b[0;32m/Applications/Xcode.app/Contents/Developer/Library/Frameworks/Python3.framework/Versions/3.9/lib/python3.9/json/decoder.py:355\u001b[0m, in \u001b[0;36mJSONDecoder.raw_decode\u001b[0;34m(self, s, idx)\u001b[0m\n\u001b[1;32m    353\u001b[0m     obj, end \u001b[38;5;241m=\u001b[39m \u001b[38;5;28mself\u001b[39m\u001b[38;5;241m.\u001b[39mscan_once(s, idx)\n\u001b[1;32m    354\u001b[0m \u001b[38;5;28;01mexcept\u001b[39;00m \u001b[38;5;167;01mStopIteration\u001b[39;00m \u001b[38;5;28;01mas\u001b[39;00m err:\n\u001b[0;32m--> 355\u001b[0m     \u001b[38;5;28;01mraise\u001b[39;00m JSONDecodeError(\u001b[38;5;124m\"\u001b[39m\u001b[38;5;124mExpecting value\u001b[39m\u001b[38;5;124m\"\u001b[39m, s, err\u001b[38;5;241m.\u001b[39mvalue) \u001b[38;5;28;01mfrom\u001b[39;00m \u001b[38;5;28mNone\u001b[39m\n\u001b[1;32m    356\u001b[0m \u001b[38;5;28;01mreturn\u001b[39;00m obj, end\n",
      "\u001b[0;31mJSONDecodeError\u001b[0m: Expecting value: line 1 column 1 (char 0)"
     ]
    }
   ],
   "source": [
    "response = urllib.request.urlopen(src)\n",
    "images = json.loads(response.read())['msg']"
   ]
  },
  {
   "cell_type": "code",
   "execution_count": 23,
   "id": "c3c5599b",
   "metadata": {},
   "outputs": [],
   "source": [
    "import json"
   ]
  },
  {
   "cell_type": "code",
   "execution_count": 25,
   "id": "02b03722",
   "metadata": {},
   "outputs": [
    {
     "data": {
      "text/plain": [
       "<addinfourl at 4537226624 whose fp = <_io.BytesIO object at 0x10e891cc0>>"
      ]
     },
     "execution_count": 25,
     "metadata": {},
     "output_type": "execute_result"
    }
   ],
   "source": [
    "response"
   ]
  },
  {
   "cell_type": "code",
   "execution_count": 30,
   "id": "72cd8175",
   "metadata": {},
   "outputs": [
    {
     "ename": "NameError",
     "evalue": "name 'cairosvg' is not defined",
     "output_type": "error",
     "traceback": [
      "\u001b[0;31m---------------------------------------------------------------------------\u001b[0m",
      "\u001b[0;31mNameError\u001b[0m                                 Traceback (most recent call last)",
      "Cell \u001b[0;32mIn[30], line 5\u001b[0m\n\u001b[1;32m      2\u001b[0m     s \u001b[38;5;241m=\u001b[39m url\u001b[38;5;241m.\u001b[39mread()\n\u001b[1;32m      3\u001b[0m     \u001b[38;5;66;03m# I'm guessing this would output the html source code ?\u001b[39;00m\n\u001b[1;32m      4\u001b[0m \u001b[38;5;66;03m#     print(s)\u001b[39;00m\n\u001b[0;32m----> 5\u001b[0m     \u001b[43mcairosvg\u001b[49m\u001b[38;5;241m.\u001b[39msvg2png(bytestring\u001b[38;5;241m=\u001b[39ms,write_to\u001b[38;5;241m=\u001b[39m\u001b[38;5;124m'\u001b[39m\u001b[38;5;124moutput.png\u001b[39m\u001b[38;5;124m'\u001b[39m)\n\u001b[1;32m      6\u001b[0m     \u001b[38;5;28mprint\u001b[39m(\u001b[38;5;124m\"\u001b[39m\u001b[38;5;124ms\u001b[39m\u001b[38;5;124m\"\u001b[39m)\n",
      "\u001b[0;31mNameError\u001b[0m: name 'cairosvg' is not defined"
     ]
    }
   ],
   "source": [
    "with urllib.request.urlopen(src) as url:\n",
    "    s = url.read()\n",
    "    # I'm guessing this would output the html source code ?\n",
    "#     print(s)\n",
    "    cairosvg.svg2png(bytestring=s,write_to='output.png')\n",
    "    print(\"s\")"
   ]
  },
  {
   "cell_type": "code",
   "execution_count": 27,
   "id": "8ed567d7",
   "metadata": {},
   "outputs": [],
   "source": [
    "svg_code = \"\"\"\n",
    "    <svg xmlns=\"http://www.w3.org/2000/svg\" width=\"24\" height=\"24\" viewBox=\"0 0 24 24\" fill=\"none\" stroke=\"#000\" stroke-width=\"2\" stroke-linecap=\"round\" stroke-linejoin=\"round\">\n",
    "        <circle cx=\"12\" cy=\"12\" r=\"10\"/>\n",
    "        <line x1=\"12\" y1=\"8\" x2=\"12\" y2=\"12\"/>\n",
    "        <line x1=\"12\" y1=\"16\" x2=\"12\" y2=\"16\"/>\n",
    "    </svg>\n",
    "\"\"\""
   ]
  },
  {
   "cell_type": "code",
   "execution_count": 28,
   "id": "f3ea859f",
   "metadata": {},
   "outputs": [
    {
     "data": {
      "text/plain": [
       "'\\n    <svg xmlns=\"http://www.w3.org/2000/svg\" width=\"24\" height=\"24\" viewBox=\"0 0 24 24\" fill=\"none\" stroke=\"#000\" stroke-width=\"2\" stroke-linecap=\"round\" stroke-linejoin=\"round\">\\n        <circle cx=\"12\" cy=\"12\" r=\"10\"/>\\n        <line x1=\"12\" y1=\"8\" x2=\"12\" y2=\"12\"/>\\n        <line x1=\"12\" y1=\"16\" x2=\"12\" y2=\"16\"/>\\n    </svg>\\n'"
      ]
     },
     "execution_count": 28,
     "metadata": {},
     "output_type": "execute_result"
    }
   ],
   "source": [
    "svg_code"
   ]
  },
  {
   "cell_type": "code",
   "execution_count": 33,
   "id": "1a8bacb0",
   "metadata": {},
   "outputs": [
    {
     "ename": "OSError",
     "evalue": "no library called \"cairo-2\" was found\nno library called \"cairo\" was found\nno library called \"libcairo-2\" was found\ncannot load library 'libcairo.so.2': dlopen(libcairo.so.2, 0x0002): tried: 'libcairo.so.2' (no such file), '/System/Volumes/Preboot/Cryptexes/OSlibcairo.so.2' (no such file), '/usr/lib/libcairo.so.2' (no such file, not in dyld cache), 'libcairo.so.2' (no such file), '/usr/local/lib/libcairo.so.2' (no such file), '/usr/lib/libcairo.so.2' (no such file, not in dyld cache)\ncannot load library 'libcairo.2.dylib': dlopen(libcairo.2.dylib, 0x0002): tried: 'libcairo.2.dylib' (no such file), '/System/Volumes/Preboot/Cryptexes/OSlibcairo.2.dylib' (no such file), '/usr/lib/libcairo.2.dylib' (no such file, not in dyld cache), 'libcairo.2.dylib' (no such file), '/usr/local/lib/libcairo.2.dylib' (no such file), '/usr/lib/libcairo.2.dylib' (no such file, not in dyld cache)\ncannot load library 'libcairo-2.dll': dlopen(libcairo-2.dll, 0x0002): tried: 'libcairo-2.dll' (no such file), '/System/Volumes/Preboot/Cryptexes/OSlibcairo-2.dll' (no such file), '/usr/lib/libcairo-2.dll' (no such file, not in dyld cache), 'libcairo-2.dll' (no such file), '/usr/local/lib/libcairo-2.dll' (no such file), '/usr/lib/libcairo-2.dll' (no such file, not in dyld cache)",
     "output_type": "error",
     "traceback": [
      "\u001b[0;31m---------------------------------------------------------------------------\u001b[0m",
      "\u001b[0;31mOSError\u001b[0m                                   Traceback (most recent call last)",
      "Cell \u001b[0;32mIn[33], line 1\u001b[0m\n\u001b[0;32m----> 1\u001b[0m \u001b[38;5;28;01mimport\u001b[39;00m \u001b[38;5;21;01mcairosvg\u001b[39;00m\n",
      "File \u001b[0;32m~/PycharmProjects/VISA-main/venv/lib/python3.9/site-packages/cairosvg/__init__.py:26\u001b[0m\n\u001b[1;32m     22\u001b[0m VERSION \u001b[38;5;241m=\u001b[39m __version__ \u001b[38;5;241m=\u001b[39m (ROOT \u001b[38;5;241m/\u001b[39m \u001b[38;5;124m'\u001b[39m\u001b[38;5;124mVERSION\u001b[39m\u001b[38;5;124m'\u001b[39m)\u001b[38;5;241m.\u001b[39mread_text()\u001b[38;5;241m.\u001b[39mstrip()\n\u001b[1;32m     25\u001b[0m \u001b[38;5;66;03m# VERSION is used in the \"url\" module imported by \"surface\"\u001b[39;00m\n\u001b[0;32m---> 26\u001b[0m \u001b[38;5;28;01mfrom\u001b[39;00m \u001b[38;5;21;01m.\u001b[39;00m \u001b[38;5;28;01mimport\u001b[39;00m surface  \u001b[38;5;66;03m# noqa isort:skip\u001b[39;00m\n\u001b[1;32m     29\u001b[0m SURFACES \u001b[38;5;241m=\u001b[39m {\n\u001b[1;32m     30\u001b[0m     \u001b[38;5;124m'\u001b[39m\u001b[38;5;124mPDF\u001b[39m\u001b[38;5;124m'\u001b[39m: surface\u001b[38;5;241m.\u001b[39mPDFSurface,\n\u001b[1;32m     31\u001b[0m     \u001b[38;5;124m'\u001b[39m\u001b[38;5;124mPNG\u001b[39m\u001b[38;5;124m'\u001b[39m: surface\u001b[38;5;241m.\u001b[39mPNGSurface,\n\u001b[0;32m   (...)\u001b[0m\n\u001b[1;32m     34\u001b[0m     \u001b[38;5;124m'\u001b[39m\u001b[38;5;124mSVG\u001b[39m\u001b[38;5;124m'\u001b[39m: surface\u001b[38;5;241m.\u001b[39mSVGSurface,\n\u001b[1;32m     35\u001b[0m }\n\u001b[1;32m     38\u001b[0m \u001b[38;5;28;01mdef\u001b[39;00m \u001b[38;5;21msvg2svg\u001b[39m(bytestring\u001b[38;5;241m=\u001b[39m\u001b[38;5;28;01mNone\u001b[39;00m, \u001b[38;5;241m*\u001b[39m, file_obj\u001b[38;5;241m=\u001b[39m\u001b[38;5;28;01mNone\u001b[39;00m, url\u001b[38;5;241m=\u001b[39m\u001b[38;5;28;01mNone\u001b[39;00m, dpi\u001b[38;5;241m=\u001b[39m\u001b[38;5;241m96\u001b[39m,\n\u001b[1;32m     39\u001b[0m             parent_width\u001b[38;5;241m=\u001b[39m\u001b[38;5;28;01mNone\u001b[39;00m, parent_height\u001b[38;5;241m=\u001b[39m\u001b[38;5;28;01mNone\u001b[39;00m, scale\u001b[38;5;241m=\u001b[39m\u001b[38;5;241m1\u001b[39m, unsafe\u001b[38;5;241m=\u001b[39m\u001b[38;5;28;01mFalse\u001b[39;00m,\n\u001b[1;32m     40\u001b[0m             background_color\u001b[38;5;241m=\u001b[39m\u001b[38;5;28;01mNone\u001b[39;00m, negate_colors\u001b[38;5;241m=\u001b[39m\u001b[38;5;28;01mFalse\u001b[39;00m, invert_images\u001b[38;5;241m=\u001b[39m\u001b[38;5;28;01mFalse\u001b[39;00m,\n\u001b[1;32m     41\u001b[0m             write_to\u001b[38;5;241m=\u001b[39m\u001b[38;5;28;01mNone\u001b[39;00m, output_width\u001b[38;5;241m=\u001b[39m\u001b[38;5;28;01mNone\u001b[39;00m, output_height\u001b[38;5;241m=\u001b[39m\u001b[38;5;28;01mNone\u001b[39;00m):\n",
      "File \u001b[0;32m~/PycharmProjects/VISA-main/venv/lib/python3.9/site-packages/cairosvg/surface.py:9\u001b[0m\n\u001b[1;32m      6\u001b[0m \u001b[38;5;28;01mimport\u001b[39;00m \u001b[38;5;21;01mcopy\u001b[39;00m\n\u001b[1;32m      7\u001b[0m \u001b[38;5;28;01mimport\u001b[39;00m \u001b[38;5;21;01mio\u001b[39;00m\n\u001b[0;32m----> 9\u001b[0m \u001b[38;5;28;01mimport\u001b[39;00m \u001b[38;5;21;01mcairocffi\u001b[39;00m \u001b[38;5;28;01mas\u001b[39;00m \u001b[38;5;21;01mcairo\u001b[39;00m\n\u001b[1;32m     11\u001b[0m \u001b[38;5;28;01mfrom\u001b[39;00m \u001b[38;5;21;01m.\u001b[39;00m\u001b[38;5;21;01mcolors\u001b[39;00m \u001b[38;5;28;01mimport\u001b[39;00m color, negate_color\n\u001b[1;32m     12\u001b[0m \u001b[38;5;28;01mfrom\u001b[39;00m \u001b[38;5;21;01m.\u001b[39;00m\u001b[38;5;21;01mdefs\u001b[39;00m \u001b[38;5;28;01mimport\u001b[39;00m (\n\u001b[1;32m     13\u001b[0m     apply_filter_after_painting, apply_filter_before_painting, clip_path,\n\u001b[1;32m     14\u001b[0m     filter_, gradient_or_pattern, linear_gradient, marker, mask, paint_mask,\n\u001b[1;32m     15\u001b[0m     parse_all_defs, pattern, prepare_filter, radial_gradient, use)\n",
      "File \u001b[0;32m~/PycharmProjects/VISA-main/venv/lib/python3.9/site-packages/cairocffi/__init__.py:48\u001b[0m\n\u001b[1;32m     43\u001b[0m     error_message \u001b[38;5;241m=\u001b[39m \u001b[38;5;124m'\u001b[39m\u001b[38;5;130;01m\\n\u001b[39;00m\u001b[38;5;124m'\u001b[39m\u001b[38;5;241m.\u001b[39mjoin(  \u001b[38;5;66;03m# pragma: no cover\u001b[39;00m\n\u001b[1;32m     44\u001b[0m         \u001b[38;5;28mstr\u001b[39m(exception) \u001b[38;5;28;01mfor\u001b[39;00m exception \u001b[38;5;129;01min\u001b[39;00m exceptions)\n\u001b[1;32m     45\u001b[0m     \u001b[38;5;28;01mraise\u001b[39;00m \u001b[38;5;167;01mOSError\u001b[39;00m(error_message)  \u001b[38;5;66;03m# pragma: no cover\u001b[39;00m\n\u001b[0;32m---> 48\u001b[0m cairo \u001b[38;5;241m=\u001b[39m \u001b[43mdlopen\u001b[49m\u001b[43m(\u001b[49m\n\u001b[1;32m     49\u001b[0m \u001b[43m    \u001b[49m\u001b[43mffi\u001b[49m\u001b[43m,\u001b[49m\u001b[43m \u001b[49m\u001b[43m(\u001b[49m\u001b[38;5;124;43m'\u001b[39;49m\u001b[38;5;124;43mcairo-2\u001b[39;49m\u001b[38;5;124;43m'\u001b[39;49m\u001b[43m,\u001b[49m\u001b[43m \u001b[49m\u001b[38;5;124;43m'\u001b[39;49m\u001b[38;5;124;43mcairo\u001b[39;49m\u001b[38;5;124;43m'\u001b[39;49m\u001b[43m,\u001b[49m\u001b[43m \u001b[49m\u001b[38;5;124;43m'\u001b[39;49m\u001b[38;5;124;43mlibcairo-2\u001b[39;49m\u001b[38;5;124;43m'\u001b[39;49m\u001b[43m)\u001b[49m\u001b[43m,\u001b[49m\n\u001b[1;32m     50\u001b[0m \u001b[43m    \u001b[49m\u001b[43m(\u001b[49m\u001b[38;5;124;43m'\u001b[39;49m\u001b[38;5;124;43mlibcairo.so.2\u001b[39;49m\u001b[38;5;124;43m'\u001b[39;49m\u001b[43m,\u001b[49m\u001b[43m \u001b[49m\u001b[38;5;124;43m'\u001b[39;49m\u001b[38;5;124;43mlibcairo.2.dylib\u001b[39;49m\u001b[38;5;124;43m'\u001b[39;49m\u001b[43m,\u001b[49m\u001b[43m \u001b[49m\u001b[38;5;124;43m'\u001b[39;49m\u001b[38;5;124;43mlibcairo-2.dll\u001b[39;49m\u001b[38;5;124;43m'\u001b[39;49m\u001b[43m)\u001b[49m\u001b[43m)\u001b[49m\n\u001b[1;32m     53\u001b[0m \u001b[38;5;28;01mclass\u001b[39;00m \u001b[38;5;21;01m_keepref\u001b[39;00m(\u001b[38;5;28mobject\u001b[39m):\n\u001b[1;32m     54\u001b[0m \u001b[38;5;250m    \u001b[39m\u001b[38;5;124;03m\"\"\"Function wrapper that keeps a reference to another object.\"\"\"\u001b[39;00m\n",
      "File \u001b[0;32m~/PycharmProjects/VISA-main/venv/lib/python3.9/site-packages/cairocffi/__init__.py:45\u001b[0m, in \u001b[0;36mdlopen\u001b[0;34m(ffi, library_names, filenames)\u001b[0m\n\u001b[1;32m     41\u001b[0m         exceptions\u001b[38;5;241m.\u001b[39mappend(exception)\n\u001b[1;32m     43\u001b[0m error_message \u001b[38;5;241m=\u001b[39m \u001b[38;5;124m'\u001b[39m\u001b[38;5;130;01m\\n\u001b[39;00m\u001b[38;5;124m'\u001b[39m\u001b[38;5;241m.\u001b[39mjoin(  \u001b[38;5;66;03m# pragma: no cover\u001b[39;00m\n\u001b[1;32m     44\u001b[0m     \u001b[38;5;28mstr\u001b[39m(exception) \u001b[38;5;28;01mfor\u001b[39;00m exception \u001b[38;5;129;01min\u001b[39;00m exceptions)\n\u001b[0;32m---> 45\u001b[0m \u001b[38;5;28;01mraise\u001b[39;00m \u001b[38;5;167;01mOSError\u001b[39;00m(error_message)\n",
      "\u001b[0;31mOSError\u001b[0m: no library called \"cairo-2\" was found\nno library called \"cairo\" was found\nno library called \"libcairo-2\" was found\ncannot load library 'libcairo.so.2': dlopen(libcairo.so.2, 0x0002): tried: 'libcairo.so.2' (no such file), '/System/Volumes/Preboot/Cryptexes/OSlibcairo.so.2' (no such file), '/usr/lib/libcairo.so.2' (no such file, not in dyld cache), 'libcairo.so.2' (no such file), '/usr/local/lib/libcairo.so.2' (no such file), '/usr/lib/libcairo.so.2' (no such file, not in dyld cache)\ncannot load library 'libcairo.2.dylib': dlopen(libcairo.2.dylib, 0x0002): tried: 'libcairo.2.dylib' (no such file), '/System/Volumes/Preboot/Cryptexes/OSlibcairo.2.dylib' (no such file), '/usr/lib/libcairo.2.dylib' (no such file, not in dyld cache), 'libcairo.2.dylib' (no such file), '/usr/local/lib/libcairo.2.dylib' (no such file), '/usr/lib/libcairo.2.dylib' (no such file, not in dyld cache)\ncannot load library 'libcairo-2.dll': dlopen(libcairo-2.dll, 0x0002): tried: 'libcairo-2.dll' (no such file), '/System/Volumes/Preboot/Cryptexes/OSlibcairo-2.dll' (no such file), '/usr/lib/libcairo-2.dll' (no such file, not in dyld cache), 'libcairo-2.dll' (no such file), '/usr/local/lib/libcairo-2.dll' (no such file), '/usr/lib/libcairo-2.dll' (no such file, not in dyld cache)"
     ]
    }
   ],
   "source": [
    "import cairosvg"
   ]
  },
  {
   "cell_type": "code",
   "execution_count": null,
   "id": "7217edfb",
   "metadata": {},
   "outputs": [],
   "source": []
  }
 ],
 "metadata": {
  "kernelspec": {
   "display_name": "Python 3 (ipykernel)",
   "language": "python",
   "name": "python3"
  },
  "language_info": {
   "codemirror_mode": {
    "name": "ipython",
    "version": 3
   },
   "file_extension": ".py",
   "mimetype": "text/x-python",
   "name": "python",
   "nbconvert_exporter": "python",
   "pygments_lexer": "ipython3",
   "version": "3.9.6"
  }
 },
 "nbformat": 4,
 "nbformat_minor": 5
}
